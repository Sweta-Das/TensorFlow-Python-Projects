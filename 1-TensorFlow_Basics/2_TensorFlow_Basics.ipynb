{
  "cells": [
    {
      "cell_type": "code",
      "execution_count": 1,
      "metadata": {
        "id": "wveMV8EdVAII"
      },
      "outputs": [],
      "source": [
        "import tensorflow as tf"
      ]
    },
    {
      "cell_type": "code",
      "execution_count": 2,
      "metadata": {
        "colab": {
          "base_uri": "https://localhost:8080/"
        },
        "id": "N-st70lbVF-O",
        "outputId": "dbe8ceef-1c70-49f9-ed82-269a3b0d8470"
      },
      "outputs": [
        {
          "data": {
            "text/plain": [
              "<tf.Tensor: shape=(3,), dtype=int32, numpy=array([1, 2, 3])>"
            ]
          },
          "execution_count": 2,
          "metadata": {},
          "output_type": "execute_result"
        }
      ],
      "source": [
        "# Defining tensors\n",
        "tnsr_a = tf.constant([1, 2, 3])\n",
        "tnsr_a"
      ]
    },
    {
      "cell_type": "markdown",
      "metadata": {
        "id": "cvwJYyD6V-UF"
      },
      "source": [
        "Operations on Tensors"
      ]
    },
    {
      "cell_type": "code",
      "execution_count": 3,
      "metadata": {
        "colab": {
          "base_uri": "https://localhost:8080/"
        },
        "id": "cv5i5vx0VTMJ",
        "outputId": "d220ee6a-3863-4e51-dfd9-cc2f6912ea4c"
      },
      "outputs": [
        {
          "data": {
            "text/plain": [
              "<tf.Tensor: shape=(3,), dtype=int32, numpy=array([5, 7, 9])>"
            ]
          },
          "execution_count": 3,
          "metadata": {},
          "output_type": "execute_result"
        }
      ],
      "source": [
        "# Performing operations on tensors\n",
        "tnsr_b = tf.constant([4, 5, 6])\n",
        "tnsr_sum = tf.add(tnsr_a, tnsr_b)\n",
        "tnsr_sum"
      ]
    },
    {
      "cell_type": "code",
      "execution_count": 4,
      "metadata": {
        "colab": {
          "base_uri": "https://localhost:8080/"
        },
        "id": "SxaP82XIVl6B",
        "outputId": "036166ef-238e-499d-ac7b-1aca8c154176"
      },
      "outputs": [
        {
          "data": {
            "text/plain": [
              "<tf.Tensor: shape=(3,), dtype=int32, numpy=array([3, 3, 3])>"
            ]
          },
          "execution_count": 4,
          "metadata": {},
          "output_type": "execute_result"
        }
      ],
      "source": [
        "tnsr_sub = tf.subtract(tnsr_b, tnsr_a)\n",
        "tnsr_sub"
      ]
    },
    {
      "cell_type": "code",
      "execution_count": 5,
      "metadata": {
        "colab": {
          "base_uri": "https://localhost:8080/"
        },
        "id": "2kTjQRDfVvwY",
        "outputId": "4e7a7a4b-3a9f-4d5d-cb40-81f4ba6ff969"
      },
      "outputs": [
        {
          "data": {
            "text/plain": [
              "<tf.Tensor: shape=(3,), dtype=int32, numpy=array([15, 21, 27])>"
            ]
          },
          "execution_count": 5,
          "metadata": {},
          "output_type": "execute_result"
        }
      ],
      "source": [
        "tnsr_prod = tf.multiply(tnsr_sum, tnsr_sub)\n",
        "tnsr_prod"
      ]
    },
    {
      "cell_type": "markdown",
      "metadata": {
        "id": "RfGNr-CXWKle"
      },
      "source": [
        "Tensor Graphs"
      ]
    },
    {
      "cell_type": "code",
      "execution_count": 6,
      "metadata": {
        "colab": {
          "base_uri": "https://localhost:8080/"
        },
        "id": "bJAc0CgDV70h",
        "outputId": "e475d99f-f896-4b9e-8067-ec908515bf47"
      },
      "outputs": [
        {
          "name": "stdout",
          "output_type": "stream",
          "text": [
            "WARNING:tensorflow:From C:\\Users\\Acer\\AppData\\Local\\Temp\\ipykernel_14748\\1767465596.py:15: The name tf.Session is deprecated. Please use tf.compat.v1.Session instead.\n",
            "\n",
            "Sum:  [12 16  8]\n",
            "Product:  [ 48 112  24]\n"
          ]
        }
      ],
      "source": [
        "# Defining a graph\n",
        "graph = tf.Graph()\n",
        "\n",
        "# Adding operations to the graph\n",
        "with graph.as_default():\n",
        "  # Tensors\n",
        "  tnsr_c = tf.constant([8, 9, 5])\n",
        "  tnsr_d = tf.constant([4, 7, 3])\n",
        "\n",
        "  # Operations\n",
        "  tnsr_sum = tf.add(tnsr_c, tnsr_d)\n",
        "  tnsr_prod = tf.multiply(tnsr_sum, tnsr_d)\n",
        "\n",
        "# Executing operaions within a session\n",
        "with tf.compat.v1.Session(graph=graph) as sess:\n",
        "  sum_res, prod_res = sess.run([tnsr_sum, tnsr_prod])\n",
        "  print(\"Sum: \", sum_res)\n",
        "  print(\"Product: \", prod_res)"
      ]
    },
    {
      "cell_type": "markdown",
      "metadata": {
        "id": "kDTpE9XoaVZF"
      },
      "source": [
        "Advantages of using TensorFlow graph: <br>\n",
        "- **Optimization**: TensorFlow can optimize the computations defined in a graph through constant folding, common sub-expression elimination, and kernel fusion, leading to improved performance, especially in GPUs.\n",
        "- **Portability**: A graph and its associated variables can be saved to a file, making it easy to deploy it to different environments, or even using it in other programming languages through TF's language bindings.\n",
        "- **Parallelism**: TensorFlow can analyze the dependencies between operations in the graph & execute them in parallel when possible, leading to better utilization of computational resources.\n",
        "- **Distributed Computing**: TensorFlow supports distributed computing across multiple devices & machines. On defining computation in a graph, we can run it on a cluster of machines.\n",
        "- **Debugging & Viz.**: Graph can be vizualized & debugged through tools like TensorBoard. This can help to understand the structure of computation, identify bottlenecks, and optimize the model."
      ]
    },
    {
      "cell_type": "code",
      "execution_count": 7,
      "metadata": {
        "id": "AVo2Wa2IWb5b"
      },
      "outputs": [],
      "source": [
        "# Writing the graph to a log directory and launching TensorBoard\n",
        "with tf.summary.create_file_writer('./logs').as_default():\n",
        "    tf.summary.trace_on(graph=True, profiler=False)\n",
        "    tf.summary.trace_export(name=\"graph_trace\", step=0)"
      ]
    },
    {
      "cell_type": "code",
      "execution_count": 8,
      "metadata": {
        "colab": {
          "base_uri": "https://localhost:8080/"
        },
        "id": "B52ihJ0VcgaH",
        "outputId": "3493991d-b67e-476e-89e4-f9f9aee70f50"
      },
      "outputs": [
        {
          "name": "stdout",
          "output_type": "stream",
          "text": [
            "^C\n"
          ]
        }
      ],
      "source": [
        "!tensorboard --logdir=./logs"
      ]
    },
    {
      "cell_type": "markdown",
      "metadata": {
        "id": "knps0fxSevm3"
      },
      "source": [
        "### Data Types and Constants"
      ]
    },
    {
      "cell_type": "code",
      "execution_count": 9,
      "metadata": {
        "colab": {
          "base_uri": "https://localhost:8080/"
        },
        "id": "GTmgjDCrdZw3",
        "outputId": "04305e35-469b-4e90-c691-03b02240d8c6"
      },
      "outputs": [
        {
          "name": "stdout",
          "output_type": "stream",
          "text": [
            "tf.Tensor([1. 5. 4.], shape=(3,), dtype=float32) tf.Tensor([1. 5. 3.], shape=(3,), dtype=float64)\n"
          ]
        }
      ],
      "source": [
        "# Float (32-bit, 64-bit)\n",
        "tnsr_flt = tf.constant([1.0, 5.0, 4.0], dtype=tf.float32)\n",
        "tnsr_dbl = tf.constant([1.0, 5.0, 3.0], dtype=tf.float64)\n",
        "print(tnsr_flt, tnsr_dbl)"
      ]
    },
    {
      "cell_type": "code",
      "execution_count": 10,
      "metadata": {
        "colab": {
          "base_uri": "https://localhost:8080/"
        },
        "id": "otANNQSBfQSD",
        "outputId": "911d67ca-ce0d-45f1-a930-4a0756215a93"
      },
      "outputs": [
        {
          "name": "stdout",
          "output_type": "stream",
          "text": [
            "tf.Tensor([4 6 7], shape=(3,), dtype=int32) tf.Tensor([3 4 5], shape=(3,), dtype=int64)\n"
          ]
        }
      ],
      "source": [
        "# Integer (32-bit, 64-bit)\n",
        "tnsr_int = tf.constant([4, 6, 7], dtype=tf.int32)\n",
        "tnsr_lng = tf.constant([3, 4, 5], dtype=tf.int64)\n",
        "print(tnsr_int, tnsr_lng)"
      ]
    },
    {
      "cell_type": "code",
      "execution_count": 11,
      "metadata": {
        "colab": {
          "base_uri": "https://localhost:8080/"
        },
        "id": "7u1o-kiJfmPT",
        "outputId": "83baa2e8-9871-4c96-de23-30bc93bdb873"
      },
      "outputs": [
        {
          "data": {
            "text/plain": [
              "<tf.Tensor: shape=(4,), dtype=bool, numpy=array([ True, False,  True,  True])>"
            ]
          },
          "execution_count": 11,
          "metadata": {},
          "output_type": "execute_result"
        }
      ],
      "source": [
        "# Boolean\n",
        "tnsr_bool = tf.constant([True, False, True, True],dtype=tf.bool)\n",
        "tnsr_bool"
      ]
    },
    {
      "cell_type": "code",
      "execution_count": 12,
      "metadata": {
        "colab": {
          "base_uri": "https://localhost:8080/"
        },
        "id": "4Z0bZTgzfv4n",
        "outputId": "5a6d4181-1c58-43b2-e462-2316cd7d7f6f"
      },
      "outputs": [
        {
          "data": {
            "text/plain": [
              "<tf.Tensor: shape=(2,), dtype=string, numpy=array([b'Hey!', b'Stay Strong.'], dtype=object)>"
            ]
          },
          "execution_count": 12,
          "metadata": {},
          "output_type": "execute_result"
        }
      ],
      "source": [
        "# String\n",
        "tnsr_str = tf.constant([\"Hey!\", \"Stay Strong.\"], dtype=tf.string)\n",
        "tnsr_str"
      ]
    },
    {
      "cell_type": "code",
      "execution_count": 13,
      "metadata": {
        "colab": {
          "base_uri": "https://localhost:8080/"
        },
        "id": "dfwCbqbIf6y3",
        "outputId": "825966af-d922-4332-acac-7ec190525be3"
      },
      "outputs": [
        {
          "data": {
            "text/plain": [
              "<tf.Tensor: shape=(2,), dtype=complex64, numpy=array([1.+2.j, 3.+6.j], dtype=complex64)>"
            ]
          },
          "execution_count": 13,
          "metadata": {},
          "output_type": "execute_result"
        }
      ],
      "source": [
        "# Complex\n",
        "tnsr_cmplx = tf.constant([1+2j, 3+6j], dtype=tf.complex64)\n",
        "tnsr_cmplx"
      ]
    },
    {
      "cell_type": "code",
      "execution_count": 14,
      "metadata": {
        "colab": {
          "base_uri": "https://localhost:8080/"
        },
        "id": "nCEIk3vAgF6-",
        "outputId": "6306165f-929a-447c-cc41-fbbd95e707a4"
      },
      "outputs": [
        {
          "data": {
            "text/plain": [
              "<tf.Tensor: shape=(3,), dtype=uint8, numpy=array([  0, 145, 165], dtype=uint8)>"
            ]
          },
          "execution_count": 14,
          "metadata": {},
          "output_type": "execute_result"
        }
      ],
      "source": [
        "# 8-bit Unsigned Integer\n",
        "tnsr_uint8 = tf.constant([0, 145, 677], dtype=tf.uint8)\n",
        "tnsr_uint8"
      ]
    },
    {
      "cell_type": "markdown",
      "metadata": {
        "id": "qWdtMxZQgkmt"
      },
      "source": [
        "### Variables and Placeholders"
      ]
    },
    {
      "cell_type": "markdown",
      "metadata": {},
      "source": [
        "Variables"
      ]
    },
    {
      "cell_type": "code",
      "execution_count": 15,
      "metadata": {
        "colab": {
          "base_uri": "https://localhost:8080/"
        },
        "id": "m945a8GjgVg5",
        "outputId": "5cd869d9-2c28-4c75-dc4e-9bfeda4a7255"
      },
      "outputs": [
        {
          "data": {
            "text/plain": [
              "<tf.Variable 'var_b:0' shape=() dtype=int32, numpy=7>"
            ]
          },
          "execution_count": 15,
          "metadata": {},
          "output_type": "execute_result"
        }
      ],
      "source": [
        "var_a = tf.Variable(2, name='var_a')\n",
        "var_b = tf.Variable(7, name='var_b')\n",
        "var_b"
      ]
    },
    {
      "cell_type": "code",
      "execution_count": 16,
      "metadata": {
        "colab": {
          "base_uri": "https://localhost:8080/"
        },
        "id": "03PRZ8MKgxAK",
        "outputId": "0611b935-3821-47d0-d66a-683f695879ff"
      },
      "outputs": [
        {
          "data": {
            "text/plain": [
              "<tf.Tensor: shape=(), dtype=int32, numpy=9>"
            ]
          },
          "execution_count": 16,
          "metadata": {},
          "output_type": "execute_result"
        }
      ],
      "source": [
        "# Ops with Variables\n",
        "var_sum = tf.add(var_a, var_b)\n",
        "var_sum"
      ]
    },
    {
      "cell_type": "code",
      "execution_count": 17,
      "metadata": {
        "colab": {
          "base_uri": "https://localhost:8080/"
        },
        "id": "lFmvecb6g9Or",
        "outputId": "263faee4-5d38-4354-ba6b-7ce53125cb9b"
      },
      "outputs": [
        {
          "data": {
            "text/plain": [
              "<tf.Tensor: shape=(), dtype=int32, numpy=18>"
            ]
          },
          "execution_count": 17,
          "metadata": {},
          "output_type": "execute_result"
        }
      ],
      "source": [
        "var_prod = tf.multiply(var_a, var_sum)\n",
        "var_prod"
      ]
    },
    {
      "cell_type": "code",
      "execution_count": 20,
      "metadata": {
        "colab": {
          "base_uri": "https://localhost:8080/",
          "height": 373
        },
        "id": "wQsc3TJfhDmY",
        "outputId": "dc12ae22-d41f-483f-d681-c29d7e0eed5c"
      },
      "outputs": [
        {
          "name": "stdout",
          "output_type": "stream",
          "text": [
            "Variable Product:  14\n"
          ]
        }
      ],
      "source": [
        "# Graph with Variables\n",
        "graph_var = tf.Graph()\n",
        "\n",
        "with graph_var.as_default():\n",
        "  var_a = tf.Variable(2, name='var_a')\n",
        "  var_b = tf.Variable(7, name='var_b')\n",
        "\n",
        "  # Operation to initialize variables\n",
        "  init = tf.compat.v1.global_variables_initializer()\n",
        "\n",
        "  var_prod = tf.multiply(var_a, var_b)\n",
        "\n",
        "with tf.compat.v1.Session(graph=graph_var) as sess:\n",
        "  # Initializing variables\n",
        "  sess.run(init)\n",
        "\n",
        "  res = sess.run(var_prod)\n",
        "  print(\"Variable Product: \", res)"
      ]
    },
    {
      "cell_type": "markdown",
      "metadata": {},
      "source": [
        "Placeholders"
      ]
    },
    {
      "cell_type": "code",
      "execution_count": 23,
      "metadata": {
        "id": "TM6VReU7hWMS"
      },
      "outputs": [
        {
          "name": "stdout",
          "output_type": "stream",
          "text": [
            "Result: 5.0\n"
          ]
        }
      ],
      "source": [
        "# Defining a graph\n",
        "graph_ph = tf.Graph()\n",
        "\n",
        "# Operation\n",
        "with graph_ph.as_default():\n",
        "    # Placeholders\n",
        "    x = tf.compat.v1.placeholder(tf.float32)\n",
        "    y = tf.compat.v1.placeholder(tf.float32)\n",
        "    \n",
        "    z = tf.add(x, y)\n",
        "\n",
        "# Graph\n",
        "with tf.compat.v1.Session(graph=graph_ph) as sess:\n",
        "    # Executing the graph with feed_dict to provide values for placeholders\n",
        "    result = sess.run(z, feed_dict={x: 2.0, y: 3.0})\n",
        "    print(\"Result:\", result)"
      ]
    },
    {
      "cell_type": "markdown",
      "metadata": {},
      "source": [
        "The key difference between variables and placeholders is that variables hold values that can be modified and updated during training, while placeholders are used to feed actual data into the TensorFlow graph during execution."
      ]
    },
    {
      "cell_type": "markdown",
      "metadata": {},
      "source": [
        "### Session and Executions"
      ]
    },
    {
      "cell_type": "markdown",
      "metadata": {},
      "source": [
        "Basic Example"
      ]
    },
    {
      "cell_type": "code",
      "execution_count": 25,
      "metadata": {},
      "outputs": [
        {
          "name": "stdout",
          "output_type": "stream",
          "text": [
            "Result: 5\n"
          ]
        }
      ],
      "source": [
        "# Define a computational graph\n",
        "graph = tf.Graph()\n",
        "\n",
        "with graph.as_default():\n",
        "    a = tf.constant(2)\n",
        "    b = tf.constant(3)\n",
        "    c = tf.add(a, b)\n",
        "\n",
        "# Create a session\n",
        "with tf.compat.v1.Session(graph=graph) as sess:\n",
        "    # Execute the graph\n",
        "    result = sess.run(c)\n",
        "    print(\"Result:\", result)"
      ]
    },
    {
      "cell_type": "markdown",
      "metadata": {},
      "source": [
        "Placeholder Example"
      ]
    },
    {
      "cell_type": "code",
      "execution_count": 26,
      "metadata": {},
      "outputs": [
        {
          "data": {
            "text/plain": [
              "<tensorflow.python.framework.ops.Graph at 0x21d40b20d40>"
            ]
          },
          "execution_count": 26,
          "metadata": {},
          "output_type": "execute_result"
        }
      ],
      "source": [
        "graph_ph"
      ]
    },
    {
      "cell_type": "code",
      "execution_count": 27,
      "metadata": {},
      "outputs": [
        {
          "name": "stdout",
          "output_type": "stream",
          "text": [
            "Result: 6.0\n"
          ]
        }
      ],
      "source": [
        "with graph_ph.as_default():\n",
        "    x = tf.compat.v1.placeholder(tf.float32)\n",
        "    y = tf.compat.v1.placeholder(tf.float32)\n",
        "    z = tf.multiply(x, y)\n",
        "\n",
        "with tf.compat.v1.Session(graph=graph_ph) as sess:\n",
        "    # Execute the graph by providing values for placeholders\n",
        "    result = sess.run(z, feed_dict={x: 2.0, y: 3.0})\n",
        "    print(\"Result:\", result)"
      ]
    },
    {
      "cell_type": "markdown",
      "metadata": {},
      "source": [
        "Variable Example"
      ]
    },
    {
      "cell_type": "code",
      "execution_count": 28,
      "metadata": {},
      "outputs": [
        {
          "data": {
            "text/plain": [
              "<tensorflow.python.framework.ops.Graph at 0x21d3ef95b40>"
            ]
          },
          "execution_count": 28,
          "metadata": {},
          "output_type": "execute_result"
        }
      ],
      "source": [
        "graph_var"
      ]
    },
    {
      "cell_type": "code",
      "execution_count": 29,
      "metadata": {},
      "outputs": [
        {
          "name": "stdout",
          "output_type": "stream",
          "text": [
            "Result: 6.0\n"
          ]
        }
      ],
      "source": [
        "with graph_var.as_default():\n",
        "    var = tf.Variable(2.0, dtype=tf.float32)\n",
        "    multiply_op = var * 3\n",
        "\n",
        "    # Initialize variables operation\n",
        "    init_vars = tf.compat.v1.global_variables_initializer()\n",
        "\n",
        "with tf.compat.v1.Session(graph=graph_var) as sess:\n",
        "    sess.run(init_vars)\n",
        "    result = sess.run(multiply_op)\n",
        "    print(\"Result:\", result) "
      ]
    }
  ],
  "metadata": {
    "colab": {
      "provenance": []
    },
    "kernelspec": {
      "display_name": "Python 3",
      "name": "python3"
    },
    "language_info": {
      "codemirror_mode": {
        "name": "ipython",
        "version": 3
      },
      "file_extension": ".py",
      "mimetype": "text/x-python",
      "name": "python",
      "nbconvert_exporter": "python",
      "pygments_lexer": "ipython3",
      "version": "3.11.9"
    }
  },
  "nbformat": 4,
  "nbformat_minor": 0
}
